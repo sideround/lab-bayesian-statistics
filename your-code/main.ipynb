{
 "cells": [
  {
   "cell_type": "markdown",
   "metadata": {},
   "source": [
    "# Intro to Bayesian Statistics Lab\n",
    "\n",
    "Complete the following set of exercises to solidify your knowledge of Bayesian statistics and Bayesian data analysis."
   ]
  },
  {
   "cell_type": "code",
   "execution_count": 2,
   "metadata": {},
   "outputs": [],
   "source": [
    "import pandas as pd\n",
    "import numpy as np\n",
    "import matplotlib.pyplot as plt"
   ]
  },
  {
   "cell_type": "markdown",
   "metadata": {},
   "source": [
    "## 1. Cookie Problem\n",
    "\n",
    "Suppose we have two bowls of cookies. Bowl 1 contains 30 vanilla cookies and 10 chocolate cookies. Bowl 2 contains 20 of each. You randomly pick one cookie out of one of the bowls, and it is vanilla. Use Bayes Theorem to calculate the probability that the vanilla cookie you picked came from Bowl 1?"
   ]
  },
  {
   "cell_type": "code",
   "execution_count": 3,
   "metadata": {},
   "outputs": [
    {
     "data": {
      "text/plain": [
       "0.6"
      ]
     },
     "execution_count": 3,
     "metadata": {},
     "output_type": "execute_result"
    }
   ],
   "source": [
    "# Bowl 1 contains 30 vainilla 10 chocolate\n",
    "# Bowl 2 contains 20 vainilla 20 chocolate.\n",
    "\n",
    "# Probability P(bowl 1 | vainilla cookie)\n",
    "\n",
    "# P(A) = P(bowl 1) = 1/2\n",
    "# P(B) = P(vainilla from bowl 1) = 30 / 40 = 3/4\n",
    "# P(AB) = P(vainilla from any bowl) = 50 / 80 = 5/8\n",
    "\n",
    "pa = 1 / 2\n",
    "pb = 3 / 4\n",
    "pab = 5 / 8\n",
    "\n",
    "p = np.multiply(pa, pb) / pab\n",
    "p"
   ]
  },
  {
   "cell_type": "markdown",
   "metadata": {},
   "source": [
    "What is the probability that it came from Bowl 2?"
   ]
  },
  {
   "cell_type": "code",
   "execution_count": 4,
   "metadata": {},
   "outputs": [
    {
     "data": {
      "text/plain": [
       "0.4"
      ]
     },
     "execution_count": 4,
     "metadata": {},
     "output_type": "execute_result"
    }
   ],
   "source": [
    "# P(A) = P(bowl 1) = 1/2\n",
    "# P(B) = P(vainilla from bowl 2) = 20 / 40 = 2/4\n",
    "# P(AB) = P(vainilla from any bowl) = 50 / 80 = 5/8\n",
    "\n",
    "pa = 1 / 2\n",
    "pb = 2 / 4\n",
    "pab = 5 / 8\n",
    "\n",
    "p = np.multiply(pa, pb) / pab\n",
    "p"
   ]
  },
  {
   "cell_type": "markdown",
   "metadata": {},
   "source": [
    "What if the cookie you had picked was chocolate? What are the probabilities that the chocolate cookie came from Bowl 1 and Bowl 2 respectively?"
   ]
  },
  {
   "cell_type": "code",
   "execution_count": 6,
   "metadata": {},
   "outputs": [
    {
     "name": "stdout",
     "output_type": "stream",
     "text": [
      "Chocolate bowl 1: 0.3333333333333333 Chocolate bowl 2: 0.6666666666666666\n"
     ]
    }
   ],
   "source": [
    "## Chocolate bowl 1\n",
    "\n",
    "# P(A) = P(bowl 1) = 1/2\n",
    "# P(B) = P(chocolate from bowl 1) = 10 / 40 = 1/4\n",
    "# P(AB) = P(chocolate from any bowl) = 30 / 80 = 3/8\n",
    "\n",
    "pa = 1 / 2\n",
    "pb = 1 / 4\n",
    "pab = 3 / 8\n",
    "\n",
    "pchocolate1 = np.multiply(pa, pb) / pab\n",
    "\n",
    "## Chocolate bowl 2\n",
    "\n",
    "pa2 = 1 / 2\n",
    "pb2 = 2 / 4\n",
    "pab2 = 3 / 8\n",
    "\n",
    "pchocolate2 = np.multiply(pa2, pb2) / pab2\n",
    "\n",
    "print(f\"Chocolate bowl 1: {pchocolate1} Chocolate bowl 2: {pchocolate2}\")\n"
   ]
  },
  {
   "cell_type": "markdown",
   "metadata": {},
   "source": [
    "## 2. Candy Problem\n",
    "\n",
    "Suppose you have two bags of candies:\n",
    "\n",
    "- In Bag 1, the mix of colors is:\n",
    "    - Brown - 30%\n",
    "    - Yellow - 20%\n",
    "    - Red - 20%\n",
    "    - Green - 10%\n",
    "    - Orange - 10%\n",
    "    - Tan - 10%\n",
    "    \n",
    "- In Bag 2, the mix of colors is:\n",
    "    - Blue - 24%\n",
    "    - Green - 20%\n",
    "    - Orange - 16%\n",
    "    - Yellow - 14%\n",
    "    - Red - 13%\n",
    "    - Brown - 13%\n",
    "    \n",
    "Not knowing which bag is which, you randomly draw one candy from each bag. One is yellow and one is green. What is the probability that the yellow one came from the Bag 1?\n",
    "\n",
    "*Hint: For the likelihoods, you will need to multiply the probabilities of drawing yellow from one bag and green from the other bag and vice versa.*"
   ]
  },
  {
   "cell_type": "code",
   "execution_count": 7,
   "metadata": {},
   "outputs": [
    {
     "data": {
      "text/plain": [
       "0.8823529411764705"
      ]
     },
     "execution_count": 7,
     "metadata": {},
     "output_type": "execute_result"
    }
   ],
   "source": [
    "# P(A) = P(bag 1) = 1/2\n",
    "# P(B) = P(yellow from bowl 1) = 30 / 100 = 3 / 10\n",
    "# P(AB) = P(yellow from any bowl) = 17 / 100\n",
    "\n",
    "pa = 1 / 2\n",
    "pb = 3 / 10\n",
    "pab = 17 / 100\n",
    "\n",
    "pyellowbag1 = np.multiply(pa, pb) / pab\n",
    "pyellowbag1"
   ]
  },
  {
   "cell_type": "markdown",
   "metadata": {},
   "source": [
    "What is the probability that the yellow candy came from Bag 2?"
   ]
  },
  {
   "cell_type": "code",
   "execution_count": 9,
   "metadata": {},
   "outputs": [
    {
     "data": {
      "text/plain": [
       "0.41176470588235287"
      ]
     },
     "execution_count": 9,
     "metadata": {},
     "output_type": "execute_result"
    }
   ],
   "source": [
    "# P(A) = P(bag 1) = 1/2\n",
    "# P(B) = P(yellow from bowl 1) = 14 / 100 = 1.4 / 10\n",
    "# P(AB) = P(yellow from any bowl) = 17 / 100\n",
    "\n",
    "pa = 1 / 2\n",
    "pb = 1.4 / 10\n",
    "pab = 17 / 100\n",
    "\n",
    "pyellowbag2 = np.multiply(pa, pb) / pab\n",
    "pyellowbag2"
   ]
  },
  {
   "cell_type": "markdown",
   "metadata": {},
   "source": [
    "What are the probabilities that the green one came from Bag 1 and Bag 2 respectively?"
   ]
  },
  {
   "cell_type": "code",
   "execution_count": 11,
   "metadata": {},
   "outputs": [
    {
     "name": "stdout",
     "output_type": "stream",
     "text": [
      "Green bag 1: 0.33333333333333337 Green bag 2: 0.6666666666666667\n"
     ]
    }
   ],
   "source": [
    "## Green bag 1\n",
    "\n",
    "# P(A) = P(bag 1) = 1/2\n",
    "# P(B) = P(green from bowl 1) = 10 / 40 = 1/4\n",
    "# P(AB) = P(green from any bowl) = 15 / 100\n",
    "\n",
    "pa = 1 / 2\n",
    "pb = 10 / 100\n",
    "pab = 15 / 100\n",
    "\n",
    "pgreen1 = np.multiply(pa, pb) / pab\n",
    "\n",
    "## Green bag 2\n",
    "\n",
    "pa2 = 1 / 2\n",
    "pb2 = 20 / 100\n",
    "pab2 = 15 / 100\n",
    "\n",
    "pgreen2 = np.multiply(pa2, pb2) / pab2\n",
    "\n",
    "print(f\"Green bag 1: {pgreen1} Green bag 2: {pgreen2}\")"
   ]
  },
  {
   "cell_type": "markdown",
   "metadata": {},
   "source": [
    "## 3. Monty Hall Problem\n",
    "\n",
    "Suppose you are a contestant on the popular game show *Let's Make a Deal*. The host of the show (Monty Hall) presents you with three doors - Door A, Door B, and Door C. He tells you that there is a sports car behind one of them and if you choose the correct one, you win the car!\n",
    "\n",
    "You select Door A, but then Monty makes things a little more interesting. He opens Door B to reveal that there is no sports car behind it and asks you if you would like to stick with your choice of Door A or switch your choice to Door C. Given this new information, what are the probabilities of you winning the car if you stick with Door A versus if you switch to Door C?"
   ]
  },
  {
   "cell_type": "code",
   "execution_count": 13,
   "metadata": {},
   "outputs": [
    {
     "name": "stdout",
     "output_type": "stream",
     "text": [
      "Staying door A: 0.3333333333333333 Switching door C: 0.6666666666666666\n"
     ]
    }
   ],
   "source": [
    "## First escenario\n",
    "\n",
    "# Door A = 1 / 3 (Selected)\n",
    "# Door B = 1 / 3\n",
    "# Door C = 1 / 3\n",
    "\n",
    "## Second escenario\n",
    "\n",
    "# Door A = 1 / 3 (Keeps the same probability from the begining)\n",
    "# No sport car\n",
    "# Door C = 2 / 3 (You got probabilities from Door B and Door C)\n",
    "\n",
    "#--------\n",
    "\n",
    "# P(door A) = 1/3\n",
    "pa = 1 / 3\n",
    "pa\n",
    "\n",
    "# P(door A without B) = 1 / 3\n",
    "pb = 1 / 3\n",
    "# P(door C without B) = 2 / 3\n",
    "pc = 2 / 3\n",
    "\n",
    "print(f\"Staying door A: {pb} Switching door C: {pc}\")"
   ]
  },
  {
   "cell_type": "markdown",
   "metadata": {},
   "source": [
    "## 4. Bayesian Analysis \n",
    "\n",
    "Suppose you work for a landscaping company, and they want to advertise their service online. They create an ad and sit back waiting for the money to roll in. On the first day, the ad sends 100 visitors to the site and 14 of them sign up for landscaping services. Create a generative model to come up with the posterior distribution and produce a visualization of what the posterior distribution would look like given the observed data."
   ]
  },
  {
   "cell_type": "code",
   "execution_count": 15,
   "metadata": {},
   "outputs": [
    {
     "data": {
      "text/plain": [
       "<matplotlib.axes._subplots.AxesSubplot at 0x114baaf90>"
      ]
     },
     "execution_count": 15,
     "metadata": {},
     "output_type": "execute_result"
    },
    {
     "data": {
      "image/png": "[encoded data removed]",
      "text/plain": [
       "<Figure size 432x288 with 1 Axes>"
      ]
     },
     "metadata": {
      "needs_background": "light"
     },
     "output_type": "display_data"
    }
   ],
   "source": [
    "distribution = pd.Series(np.random.uniform(0, 1, size=100000))\n",
    "distribution.hist()"
   ]
  },
  {
   "cell_type": "markdown",
   "metadata": {},
   "source": [
    "Produce a set of descriptive statistics for the posterior distribution."
   ]
  },
  {
   "cell_type": "code",
   "execution_count": 18,
   "metadata": {},
   "outputs": [
    {
     "data": {
      "text/plain": [
       "<matplotlib.axes._subplots.AxesSubplot at 0x115973a10>"
      ]
     },
     "execution_count": 18,
     "metadata": {},
     "output_type": "execute_result"
    },
    {
     "data": {
      "image/png": "[encoded data removed]",
      "text/plain": [
       "<Figure size 432x288 with 1 Axes>"
      ]
     },
     "metadata": {
      "needs_background": "light"
     },
     "output_type": "display_data"
    }
   ],
   "source": [
    "def generative_model(param):\n",
    "    result = np.random.binomial(14, param)\n",
    "    return result\n",
    "\n",
    "sim_data = distribution.apply(lambda p: generative_model(p))\n",
    "sim_data.hist()"
   ]
  },
  {
   "cell_type": "markdown",
   "metadata": {},
   "source": [
    "What is the 90% credible interval range?"
   ]
  },
  {
   "cell_type": "code",
   "execution_count": null,
   "metadata": {},
   "outputs": [],
   "source": []
  },
  {
   "cell_type": "markdown",
   "metadata": {},
   "source": [
    "What is the Maximum Likelihood Estimate?"
   ]
  },
  {
   "cell_type": "code",
   "execution_count": null,
   "metadata": {},
   "outputs": [],
   "source": []
  }
 ],
 "metadata": {
  "kernelspec": {
   "display_name": "Python 3",
   "language": "python",
   "name": "python3"
  },
  "language_info": {
   "codemirror_mode": {
    "name": "ipython",
    "version": 3
   },
   "file_extension": ".py",
   "mimetype": "text/x-python",
   "name": "python",
   "nbconvert_exporter": "python",
   "pygments_lexer": "ipython3",
   "version": "3.7.4"
  },
  "toc": {
   "base_numbering": 1,
   "nav_menu": {},
   "number_sections": true,
   "sideBar": true,
   "skip_h1_title": false,
   "title_cell": "Table of Contents",
   "title_sidebar": "Contents",
   "toc_cell": false,
   "toc_position": {},
   "toc_section_display": true,
   "toc_window_display": false
  },
  "varInspector": {
   "cols": {
    "lenName": 16,
    "lenType": 16,
    "lenVar": 40
   },
   "kernels_config": {
    "python": {
     "delete_cmd_postfix": "",
     "delete_cmd_prefix": "del ",
     "library": "var_list.py",
     "varRefreshCmd": "print(var_dic_list())"
    },
    "r": {
     "delete_cmd_postfix": ") ",
     "delete_cmd_prefix": "rm(",
     "library": "var_list.r",
     "varRefreshCmd": "cat(var_dic_list()) "
    }
   },
   "types_to_exclude": [
    "module",
    "function",
    "builtin_function_or_method",
    "instance",
    "_Feature"
   ],
   "window_display": false
  }
 },
 "nbformat": 4,
 "nbformat_minor": 2
}
